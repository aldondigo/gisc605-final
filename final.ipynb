{
  "nbformat": 4,
  "nbformat_minor": 0,
  "metadata": {
    "colab": {
      "provenance": []
    },
    "kernelspec": {
      "name": "python3",
      "display_name": "Python 3"
    },
    "language_info": {
      "name": "python"
    }
  },
  "cells": [
    {
      "cell_type": "code",
      "execution_count": 1,
      "metadata": {
        "colab": {
          "base_uri": "https://localhost:8080/"
        },
        "id": "RD9HA5wEVExH",
        "outputId": "003e9b3a-17a6-4543-8f48-7968d6fc766c"
      },
      "outputs": [
        {
          "output_type": "stream",
          "name": "stdout",
          "text": [
            "Howdy Planet!\n"
          ]
        }
      ],
      "source": [
        "#Final question\n",
        "\n",
        "def Howdy_Planet ():\n",
        "  print(\"Howdy Planet!\")\n",
        "\n",
        "Howdy_Planet()\n"
      ]
    },
    {
      "cell_type": "code",
      "source": [
        "#Question 5\n",
        "\n",
        "directions = [\"North\", \"South\", \"East\", \"West\"]\n",
        "\n",
        "for directions in directions:\n",
        "  print (directions)"
      ],
      "metadata": {
        "colab": {
          "base_uri": "https://localhost:8080/"
        },
        "id": "-03DUF5AV1qH",
        "outputId": "390ea2da-f1b8-476c-d6d2-8183d9b1133b"
      },
      "execution_count": 5,
      "outputs": [
        {
          "output_type": "stream",
          "name": "stdout",
          "text": [
            "North\n",
            "South\n",
            "East\n",
            "West\n"
          ]
        }
      ]
    },
    {
      "cell_type": "code",
      "source": [],
      "metadata": {
        "id": "owl4hNe7W4DY"
      },
      "execution_count": null,
      "outputs": []
    }
  ]
}